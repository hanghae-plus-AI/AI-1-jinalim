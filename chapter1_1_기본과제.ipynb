{
  "nbformat": 4,
  "nbformat_minor": 0,
  "metadata": {
    "colab": {
      "provenance": [],
      "gpuType": "T4",
      "toc_visible": true,
      "name": "chapter1-1_기본과제.ipynb",
      "include_colab_link": true
    },
    "kernelspec": {
      "name": "python3",
      "display_name": "Python 3"
    },
    "language_info": {
      "name": "python"
    },
    "accelerator": "GPU"
  },
  "cells": [
    {
      "cell_type": "markdown",
      "metadata": {
        "id": "view-in-github",
        "colab_type": "text"
      },
      "source": [
        "<a href=\"https://colab.research.google.com/github/hanghae-plus-AI/AI-1-jinalim/blob/main/chapter1_1_%EA%B8%B0%EB%B3%B8%EA%B3%BC%EC%A0%9C.ipynb\" target=\"_parent\"><img src=\"https://colab.research.google.com/assets/colab-badge.svg\" alt=\"Open In Colab\"/></a>"
      ]
    },
    {
      "cell_type": "markdown",
      "source": [
        "### MNIST 실습과 똑같은 task와 모델 사용하여 시작!\n",
        "\n",
        "**1. Test Data 준비하기**\n",
        "  \n",
        "  ✅ Test data는 MNIST의 train data를 load하는 코드에서 `train=False`로 두기\n",
        "\n",
        "  ✅ Train data와 마찬가지로 test data에 대한 data loader 생성 (batch size는 동일하게 적용)\n",
        "\n",
        "  ✅ Test data 랜덤 섞기 불필요하여 `shuffle=False`로 설정\n"
      ],
      "metadata": {
        "id": "FRI4d--9WIkF"
      }
    },
    {
      "cell_type": "code",
      "execution_count": null,
      "metadata": {
        "id": "CX5aWfjJRSPm",
        "colab": {
          "base_uri": "https://localhost:8080/"
        },
        "outputId": "14cfc93f-20d4-47b5-9f0f-4891f9e25471"
      },
      "outputs": [
        {
          "output_type": "stream",
          "name": "stdout",
          "text": [
            "Downloading http://yann.lecun.com/exdb/mnist/train-images-idx3-ubyte.gz\n",
            "Failed to download (trying next):\n",
            "HTTP Error 403: Forbidden\n",
            "\n",
            "Downloading https://ossci-datasets.s3.amazonaws.com/mnist/train-images-idx3-ubyte.gz\n",
            "Downloading https://ossci-datasets.s3.amazonaws.com/mnist/train-images-idx3-ubyte.gz to ./data/MNIST/raw/train-images-idx3-ubyte.gz\n"
          ]
        },
        {
          "output_type": "stream",
          "name": "stderr",
          "text": [
            "100%|██████████| 9912422/9912422 [00:00<00:00, 16047249.41it/s]\n"
          ]
        },
        {
          "output_type": "stream",
          "name": "stdout",
          "text": [
            "Extracting ./data/MNIST/raw/train-images-idx3-ubyte.gz to ./data/MNIST/raw\n",
            "\n",
            "Downloading http://yann.lecun.com/exdb/mnist/train-labels-idx1-ubyte.gz\n",
            "Failed to download (trying next):\n",
            "HTTP Error 403: Forbidden\n",
            "\n",
            "Downloading https://ossci-datasets.s3.amazonaws.com/mnist/train-labels-idx1-ubyte.gz\n",
            "Downloading https://ossci-datasets.s3.amazonaws.com/mnist/train-labels-idx1-ubyte.gz to ./data/MNIST/raw/train-labels-idx1-ubyte.gz\n"
          ]
        },
        {
          "output_type": "stream",
          "name": "stderr",
          "text": [
            "100%|██████████| 28881/28881 [00:00<00:00, 583952.52it/s]\n"
          ]
        },
        {
          "output_type": "stream",
          "name": "stdout",
          "text": [
            "Extracting ./data/MNIST/raw/train-labels-idx1-ubyte.gz to ./data/MNIST/raw\n",
            "\n",
            "Downloading http://yann.lecun.com/exdb/mnist/t10k-images-idx3-ubyte.gz\n",
            "Failed to download (trying next):\n",
            "HTTP Error 403: Forbidden\n",
            "\n",
            "Downloading https://ossci-datasets.s3.amazonaws.com/mnist/t10k-images-idx3-ubyte.gz\n",
            "Downloading https://ossci-datasets.s3.amazonaws.com/mnist/t10k-images-idx3-ubyte.gz to ./data/MNIST/raw/t10k-images-idx3-ubyte.gz\n"
          ]
        },
        {
          "output_type": "stream",
          "name": "stderr",
          "text": [
            "100%|██████████| 1648877/1648877 [00:00<00:00, 3717591.59it/s]\n"
          ]
        },
        {
          "output_type": "stream",
          "name": "stdout",
          "text": [
            "Extracting ./data/MNIST/raw/t10k-images-idx3-ubyte.gz to ./data/MNIST/raw\n",
            "\n",
            "Downloading http://yann.lecun.com/exdb/mnist/t10k-labels-idx1-ubyte.gz\n",
            "Failed to download (trying next):\n",
            "HTTP Error 403: Forbidden\n",
            "\n",
            "Downloading https://ossci-datasets.s3.amazonaws.com/mnist/t10k-labels-idx1-ubyte.gz\n",
            "Downloading https://ossci-datasets.s3.amazonaws.com/mnist/t10k-labels-idx1-ubyte.gz to ./data/MNIST/raw/t10k-labels-idx1-ubyte.gz\n"
          ]
        },
        {
          "output_type": "stream",
          "name": "stderr",
          "text": [
            "100%|██████████| 4542/4542 [00:00<00:00, 2883822.10it/s]"
          ]
        },
        {
          "output_type": "stream",
          "name": "stdout",
          "text": [
            "Extracting ./data/MNIST/raw/t10k-labels-idx1-ubyte.gz to ./data/MNIST/raw\n",
            "\n"
          ]
        },
        {
          "output_type": "stream",
          "name": "stderr",
          "text": [
            "\n"
          ]
        }
      ],
      "source": [
        "import torch\n",
        "import torchvision\n",
        "import torchvision.transforms as transforms\n",
        "\n",
        "transform = transforms.ToTensor()\n",
        "\n",
        "# Train 데이터셋 로드\n",
        "trainset = torchvision.datasets.MNIST(\n",
        "    root = './data',\n",
        "    train = True,\n",
        "    download = True,\n",
        "    transform = transform\n",
        ")\n",
        "\n",
        "# Test 데이터셋 로드\n",
        "testset = torchvision.datasets.MNIST(\n",
        "    root = './data',\n",
        "    train = False,\n",
        "    download = True,\n",
        "    transform = transform\n",
        ")"
      ]
    },
    {
      "cell_type": "code",
      "source": [
        "#전체 data의 개수와 첫번째 data를 출력한 결과\n",
        "\n",
        "from matplotlib import pyplot as plt\n",
        "\n",
        "print(len(trainset))\n",
        "print(trainset[0][0].shape, trainset[0][1])\n",
        "plt.imshow(trainset[0][0][0], cmap='gray')"
      ],
      "metadata": {
        "colab": {
          "base_uri": "https://localhost:8080/",
          "height": 485
        },
        "id": "L0fRzw0GR7_I",
        "outputId": "12e818df-2422-401c-faa3-fcd94e3abe51"
      },
      "execution_count": null,
      "outputs": [
        {
          "output_type": "stream",
          "name": "stdout",
          "text": [
            "60000\n",
            "torch.Size([1, 28, 28]) 5\n"
          ]
        },
        {
          "output_type": "execute_result",
          "data": {
            "text/plain": [
              "<matplotlib.image.AxesImage at 0x7ce61c85b280>"
            ]
          },
          "metadata": {},
          "execution_count": 2
        },
        {
          "output_type": "display_data",
          "data": {
            "text/plain": [
              "<Figure size 640x480 with 1 Axes>"
            ],
            "image/png": "[encoded data removed]"
          },
          "metadata": {}
        }
      ]
    },
    {
      "cell_type": "code",
      "source": [
        "# SGD를 위해 dataset을 여러개의 batch로 나누기\n",
        "\n",
        "batch_size = 64\n",
        "\n",
        "# Train 데이터 로더 정의\n",
        "trainloader = torch.utils.data.DataLoader(\n",
        "    trainset,\n",
        "    batch_size = batch_size,\n",
        "    shuffle = True\n",
        ")\n",
        "\n",
        "# Test 데이터 로더 정의\n",
        "testloader = torch.utils.data.DataLoader(\n",
        "    testset,\n",
        "    batch_size = batch_size,\n",
        "    shuffle = False\n",
        ")\n",
        "\n",
        "dataiter = iter(trainloader)\n",
        "images, labels = next(dataiter)\n",
        "print(images.shape, labels.shape)"
      ],
      "metadata": {
        "colab": {
          "base_uri": "https://localhost:8080/"
        },
        "id": "YLnE7pi2SZHe",
        "outputId": "bbbd9697-7e44-431d-9c8c-c3c37405c474"
      },
      "execution_count": null,
      "outputs": [
        {
          "output_type": "stream",
          "name": "stdout",
          "text": [
            "torch.Size([64, 1, 28, 28]) torch.Size([64])\n"
          ]
        }
      ]
    },
    {
      "cell_type": "markdown",
      "source": [
        "**2. `nn.CrossEntropyLoss` 적용하기**\n",
        "\n",
        "> 기존 실습에서 적용한 **MSE**는 주로 회귀문제에서 사용하며, 연속적인 값을 예측 / **CrossEntropyLoss**는 분류문제에 사용하며 카테고리 예측\n",
        "\n",
        "\n",
        "  ✅ Model의 최종 output의 dimension 변경\n",
        "\n",
        "  ✅ Loss 계산부분 변경\n",
        "\n",
        "\n"
      ],
      "metadata": {
        "id": "1ZGbimyBYF_i"
      }
    },
    {
      "cell_type": "code",
      "source": [
        "from torch import nn\n",
        "\n",
        "class Model(nn.Module):\n",
        "    def __init__(self, input_dim, n_dim):\n",
        "        super().__init__()\n",
        "        self.layer1 = nn.Linear(input_dim, n_dim)\n",
        "        self.layer2 = nn.Linear(n_dim, n_dim)\n",
        "        self.layer3 = nn.Linear(n_dim, 10)  # 10개의 클래스 출력\n",
        "\n",
        "        self.act = nn.ReLU()\n",
        "\n",
        "    def forward(self, x):\n",
        "        x = torch.flatten(x, start_dim=1)\n",
        "        x = self.act(self.layer1(x))\n",
        "        x = self.act(self.layer2(x))\n",
        "        x = self.layer3(x)  # 마지막에 활성화 함수가 없으므로 원시 출력(logits)을 반환\n",
        "        return x\n",
        "\n",
        "model = Model(28 * 28 * 1, 1024)\n",
        "\n",
        "criterion = nn.CrossEntropyLoss() # CrossEntropyLoss 적용\n",
        "\n",
        "from torch.optim import SGD\n",
        "\n",
        "lr = 0.001\n",
        "model = model.to('cuda')\n",
        "\n",
        "optimizer = SGD(model.parameters(), lr=lr)"
      ],
      "metadata": {
        "id": "xQT8KUY6SjDj"
      },
      "execution_count": null,
      "outputs": []
    },
    {
      "cell_type": "code",
      "source": [
        "# model을 MNIST에 학습하는 코드\n",
        "n_epochs = 100\n",
        "\n",
        "for epoch in range(n_epochs):\n",
        "    total_loss = 0.\n",
        "    for data in trainloader:\n",
        "        model.zero_grad()\n",
        "        inputs, labels = data\n",
        "        inputs, labels = inputs.to('cuda'), labels.to('cuda')\n",
        "\n",
        "        preds = model(inputs)\n",
        "        loss = criterion(preds, labels)  # CrossEntropyLoss 사용\n",
        "        loss.backward()\n",
        "        optimizer.step()\n",
        "\n",
        "        total_loss += loss.item()\n",
        "\n",
        "    print(f\"Epoch {epoch:3d} | Loss : {total_loss}\")"
      ],
      "metadata": {
        "id": "K-nJonpKUBEN",
        "colab": {
          "base_uri": "https://localhost:8080/"
        },
        "outputId": "ecf4ad3a-ea1b-44db-a668-e4144d4e1853"
      },
      "execution_count": null,
      "outputs": [
        {
          "output_type": "stream",
          "name": "stdout",
          "text": [
            "Epoch   0 | Loss : 2128.567655801773\n",
            "Epoch   1 | Loss : 2054.491209745407\n",
            "Epoch   2 | Loss : 1935.0477712154388\n",
            "Epoch   3 | Loss : 1733.5556044578552\n",
            "Epoch   4 | Loss : 1444.4692972898483\n",
            "Epoch   5 | Loss : 1142.3339027762413\n",
            "Epoch   6 | Loss : 912.4827861189842\n",
            "Epoch   7 | Loss : 761.5188643932343\n",
            "Epoch   8 | Loss : 661.5298362374306\n",
            "Epoch   9 | Loss : 591.7773237526417\n",
            "Epoch  10 | Loss : 540.9213716983795\n",
            "Epoch  11 | Loss : 502.25403049588203\n",
            "Epoch  12 | Loss : 471.81731328368187\n",
            "Epoch  13 | Loss : 447.5054068416357\n",
            "Epoch  14 | Loss : 427.58541648089886\n",
            "Epoch  15 | Loss : 410.88794718682766\n",
            "Epoch  16 | Loss : 396.77358354628086\n",
            "Epoch  17 | Loss : 384.7379209846258\n",
            "Epoch  18 | Loss : 374.30871944129467\n",
            "Epoch  19 | Loss : 365.1595637202263\n",
            "Epoch  20 | Loss : 356.96736431121826\n",
            "Epoch  21 | Loss : 349.5416002124548\n",
            "Epoch  22 | Loss : 343.24429853260517\n",
            "Epoch  23 | Loss : 337.08279341459274\n",
            "Epoch  24 | Loss : 331.5295168310404\n",
            "Epoch  25 | Loss : 326.2937582284212\n",
            "Epoch  26 | Loss : 321.71867595613\n",
            "Epoch  27 | Loss : 317.16271710395813\n",
            "Epoch  28 | Loss : 313.16585048288107\n",
            "Epoch  29 | Loss : 309.2703607156873\n",
            "Epoch  30 | Loss : 305.58293102681637\n",
            "Epoch  31 | Loss : 302.0167870223522\n",
            "Epoch  32 | Loss : 298.75068221986294\n",
            "Epoch  33 | Loss : 295.4435743615031\n",
            "Epoch  34 | Loss : 292.46191328018904\n",
            "Epoch  35 | Loss : 289.57270922511816\n",
            "Epoch  36 | Loss : 286.6976319849491\n",
            "Epoch  37 | Loss : 284.0506597906351\n",
            "Epoch  38 | Loss : 281.3169562295079\n",
            "Epoch  39 | Loss : 278.8917820379138\n",
            "Epoch  40 | Loss : 276.38932397961617\n",
            "Epoch  41 | Loss : 273.92211996018887\n",
            "Epoch  42 | Loss : 271.5015101879835\n",
            "Epoch  43 | Loss : 269.32947408407927\n",
            "Epoch  44 | Loss : 267.0056075453758\n",
            "Epoch  45 | Loss : 264.85893189162016\n",
            "Epoch  46 | Loss : 263.0033539235592\n",
            "Epoch  47 | Loss : 260.7962693274021\n",
            "Epoch  48 | Loss : 258.7902070879936\n",
            "Epoch  49 | Loss : 256.7352677062154\n",
            "Epoch  50 | Loss : 254.82156692445278\n",
            "Epoch  51 | Loss : 252.6615237146616\n",
            "Epoch  52 | Loss : 251.0188218690455\n",
            "Epoch  53 | Loss : 249.045648612082\n",
            "Epoch  54 | Loss : 247.10209856927395\n",
            "Epoch  55 | Loss : 245.2548150792718\n",
            "Epoch  56 | Loss : 243.46144312620163\n",
            "Epoch  57 | Loss : 241.63129687309265\n",
            "Epoch  58 | Loss : 239.89146037772298\n",
            "Epoch  59 | Loss : 238.1916688233614\n",
            "Epoch  60 | Loss : 236.47277076542377\n",
            "Epoch  61 | Loss : 234.94140615314245\n",
            "Epoch  62 | Loss : 233.18103030323982\n",
            "Epoch  63 | Loss : 231.49210961908102\n",
            "Epoch  64 | Loss : 229.8279018588364\n",
            "Epoch  65 | Loss : 228.3252606242895\n",
            "Epoch  66 | Loss : 226.68431593105197\n",
            "Epoch  67 | Loss : 225.1119238100946\n",
            "Epoch  68 | Loss : 223.5357227064669\n",
            "Epoch  69 | Loss : 221.99672119691968\n",
            "Epoch  70 | Loss : 220.41002813726664\n",
            "Epoch  71 | Loss : 218.9352451208979\n",
            "Epoch  72 | Loss : 217.52364276349545\n",
            "Epoch  73 | Loss : 215.90147674828768\n",
            "Epoch  74 | Loss : 214.3611623197794\n",
            "Epoch  75 | Loss : 213.01330948993564\n",
            "Epoch  76 | Loss : 211.50350711122155\n",
            "Epoch  77 | Loss : 210.01649169251323\n",
            "Epoch  78 | Loss : 208.6668870486319\n",
            "Epoch  79 | Loss : 207.2629740536213\n",
            "Epoch  80 | Loss : 206.09590036049485\n",
            "Epoch  81 | Loss : 204.5318519771099\n",
            "Epoch  82 | Loss : 203.2377374060452\n",
            "Epoch  83 | Loss : 201.8616764768958\n",
            "Epoch  84 | Loss : 200.49854261428118\n",
            "Epoch  85 | Loss : 199.12647798284888\n",
            "Epoch  86 | Loss : 197.88416296243668\n",
            "Epoch  87 | Loss : 196.44385978206992\n",
            "Epoch  88 | Loss : 195.22775150835514\n",
            "Epoch  89 | Loss : 193.8919790238142\n",
            "Epoch  90 | Loss : 192.76149041205645\n",
            "Epoch  91 | Loss : 191.35586232319474\n",
            "Epoch  92 | Loss : 190.20558572001755\n",
            "Epoch  93 | Loss : 188.9849413819611\n",
            "Epoch  94 | Loss : 187.87355238571763\n",
            "Epoch  95 | Loss : 186.55137384310365\n",
            "Epoch  96 | Loss : 185.38900161534548\n",
            "Epoch  97 | Loss : 184.28823978826404\n",
            "Epoch  98 | Loss : 183.09473061561584\n",
            "Epoch  99 | Loss : 181.8843770250678\n"
          ]
        }
      ]
    },
    {
      "cell_type": "code",
      "source": [
        "idx = 0\n",
        "\n",
        "x = trainset[idx][0][None]\n",
        "x = x.to('cuda')\n",
        "\n",
        "print(model(x))\n",
        "print(trainset[idx][1])"
      ],
      "metadata": {
        "id": "Oof4rAf_VVbC",
        "colab": {
          "base_uri": "https://localhost:8080/"
        },
        "outputId": "7d5f1d14-c278-471e-98bd-1a6314fd4b0e"
      },
      "execution_count": null,
      "outputs": [
        {
          "output_type": "stream",
          "name": "stdout",
          "text": [
            "tensor([[ 0.1856, -2.6983,  1.5400,  6.2856, -8.0986,  8.4364, -4.5844,  0.6430,\n",
            "         -0.1128, -0.1917]], device='cuda:0', grad_fn=<AddmmBackward0>)\n",
            "5\n"
          ]
        }
      ]
    },
    {
      "cell_type": "markdown",
      "source": [
        "🔎 결과를 이해해보자!\n",
        "\n",
        "* 이 탠서는 모델이 예측한 결과로, 위 MNIST 문제는 10개의 숫자(클래스 0~9를 분류하는 문제이므로, 이 텐서는 10개의 logits 값을 의미함\n",
        "* 각각의 값는 해당 클래스에 대한 예측 점수를 의미 ( 0.1856 = 클래스 0일 것이라는 예측값 )\n",
        "* 클래스 5에 대한 예측값이 8.4364로 가장 높으며, 이는 \"이 이미지가 숫자 5일 가능성이 가장 높다\"고 예측함을 의미"
      ],
      "metadata": {
        "id": "VNFBn-K6aP1a"
      }
    },
    {
      "cell_type": "markdown",
      "source": [
        "**3. epoch에 따른 model의 train 과 test data에 대한 정확도 plot하기**\n",
        "  \n",
        "  ✅ 매 epoch가 끝난 뒤의 model의 trainloader와 testloader에 대한 정확도를 각각 list로 저장\n",
        "\n",
        "  ✅ Epoch에 따른 train과 test data에 대한 model의 정확도를 다음 코드를 사용하여 plot하기"
      ],
      "metadata": {
        "id": "ziwAp2pWblas"
      }
    },
    {
      "cell_type": "code",
      "source": [
        "n_epochs = 100\n",
        "batch_size = 256\n",
        "lr = 0.001\n",
        "\n",
        "def accuracy(model, dataloader):\n",
        "  cnt = 0\n",
        "  acc = 0\n",
        "\n",
        "  for data in dataloader:\n",
        "    inputs, labels = data\n",
        "    inputs, labels = inputs.to('cuda'), labels.to('cuda')\n",
        "\n",
        "    preds = model(inputs)\n",
        "    preds = torch.argmax(preds, dim=-1)\n",
        "\n",
        "    cnt += labels.shape[0]\n",
        "    acc += (labels == preds).sum().item()\n",
        "\n",
        "  return acc / cnt\n",
        "\n",
        "train_acc_list = []\n",
        "test_acc_list = []\n",
        "\n",
        "for epoch in range(n_epochs):\n",
        "    total_loss = 0.\n",
        "\n",
        "\n",
        "    model.train()\n",
        "    for data in trainloader:\n",
        "        model.zero_grad()\n",
        "        inputs, labels = data\n",
        "        inputs, labels = inputs.to('cuda'), labels.to('cuda')\n",
        "\n",
        "        preds = model(inputs)\n",
        "        loss = criterion(preds, labels)\n",
        "        loss.backward()\n",
        "        optimizer.step()\n",
        "\n",
        "        total_loss += loss.item()\n",
        "\n",
        "    # 에폭 끝난 후 정확도 계산\n",
        "    model.eval()\n",
        "    train_acc = accuracy(model, trainloader)  # Train 데이터에 대한 정확도\n",
        "    test_acc = accuracy(model, testloader)    # Test 데이터에 대한 정확도\n",
        "\n",
        "    # 정확도 저장\n",
        "    train_acc_list.append(train_acc)\n",
        "    test_acc_list.append(test_acc)\n",
        "\n",
        "    # 학습 상태 출력\n",
        "    print(f\"Epoch {epoch:3d} | Loss: {total_loss:.4f} | Train Accuracy: {train_acc:.4f} | Test Accuracy: {test_acc:.4f}\")\n"
      ],
      "metadata": {
        "id": "jZ3Q2VRdcIeG",
        "colab": {
          "base_uri": "https://localhost:8080/"
        },
        "outputId": "da19f5e0-7380-4a22-9d45-7644a8520b20"
      },
      "execution_count": null,
      "outputs": [
        {
          "output_type": "stream",
          "name": "stdout",
          "text": [
            "Epoch   0 | Loss: 180.7794 | Train Accuracy: 0.9459 | Test Accuracy: 0.9438\n",
            "Epoch   1 | Loss: 179.7289 | Train Accuracy: 0.9465 | Test Accuracy: 0.9434\n",
            "Epoch   2 | Loss: 178.6329 | Train Accuracy: 0.9467 | Test Accuracy: 0.9447\n",
            "Epoch   3 | Loss: 177.4279 | Train Accuracy: 0.9469 | Test Accuracy: 0.9447\n",
            "Epoch   4 | Loss: 176.4176 | Train Accuracy: 0.9474 | Test Accuracy: 0.9444\n",
            "Epoch   5 | Loss: 175.1809 | Train Accuracy: 0.9477 | Test Accuracy: 0.9449\n",
            "Epoch   6 | Loss: 174.0830 | Train Accuracy: 0.9481 | Test Accuracy: 0.9450\n",
            "Epoch   7 | Loss: 173.1122 | Train Accuracy: 0.9486 | Test Accuracy: 0.9457\n",
            "Epoch   8 | Loss: 172.1481 | Train Accuracy: 0.9488 | Test Accuracy: 0.9455\n",
            "Epoch   9 | Loss: 170.8985 | Train Accuracy: 0.9487 | Test Accuracy: 0.9463\n",
            "Epoch  10 | Loss: 169.9591 | Train Accuracy: 0.9495 | Test Accuracy: 0.9463\n",
            "Epoch  11 | Loss: 168.8693 | Train Accuracy: 0.9497 | Test Accuracy: 0.9466\n",
            "Epoch  12 | Loss: 167.8488 | Train Accuracy: 0.9499 | Test Accuracy: 0.9470\n",
            "Epoch  13 | Loss: 166.7534 | Train Accuracy: 0.9494 | Test Accuracy: 0.9467\n",
            "Epoch  14 | Loss: 165.8865 | Train Accuracy: 0.9502 | Test Accuracy: 0.9469\n",
            "Epoch  15 | Loss: 164.8754 | Train Accuracy: 0.9508 | Test Accuracy: 0.9472\n",
            "Epoch  16 | Loss: 163.8976 | Train Accuracy: 0.9507 | Test Accuracy: 0.9476\n",
            "Epoch  17 | Loss: 163.1184 | Train Accuracy: 0.9510 | Test Accuracy: 0.9477\n",
            "Epoch  18 | Loss: 161.9031 | Train Accuracy: 0.9513 | Test Accuracy: 0.9477\n",
            "Epoch  19 | Loss: 160.9359 | Train Accuracy: 0.9518 | Test Accuracy: 0.9478\n",
            "Epoch  20 | Loss: 160.0469 | Train Accuracy: 0.9517 | Test Accuracy: 0.9486\n",
            "Epoch  21 | Loss: 159.1576 | Train Accuracy: 0.9525 | Test Accuracy: 0.9484\n",
            "Epoch  22 | Loss: 158.1935 | Train Accuracy: 0.9525 | Test Accuracy: 0.9494\n",
            "Epoch  23 | Loss: 157.3753 | Train Accuracy: 0.9528 | Test Accuracy: 0.9493\n",
            "Epoch  24 | Loss: 156.3937 | Train Accuracy: 0.9532 | Test Accuracy: 0.9501\n",
            "Epoch  25 | Loss: 155.4155 | Train Accuracy: 0.9533 | Test Accuracy: 0.9489\n",
            "Epoch  26 | Loss: 154.4719 | Train Accuracy: 0.9538 | Test Accuracy: 0.9503\n",
            "Epoch  27 | Loss: 153.5798 | Train Accuracy: 0.9541 | Test Accuracy: 0.9502\n",
            "Epoch  28 | Loss: 152.7301 | Train Accuracy: 0.9542 | Test Accuracy: 0.9514\n",
            "Epoch  29 | Loss: 151.9497 | Train Accuracy: 0.9544 | Test Accuracy: 0.9510\n",
            "Epoch  30 | Loss: 151.0246 | Train Accuracy: 0.9547 | Test Accuracy: 0.9512\n",
            "Epoch  31 | Loss: 150.1522 | Train Accuracy: 0.9551 | Test Accuracy: 0.9517\n",
            "Epoch  32 | Loss: 149.3208 | Train Accuracy: 0.9554 | Test Accuracy: 0.9517\n",
            "Epoch  33 | Loss: 148.3664 | Train Accuracy: 0.9555 | Test Accuracy: 0.9516\n",
            "Epoch  34 | Loss: 147.6046 | Train Accuracy: 0.9556 | Test Accuracy: 0.9521\n",
            "Epoch  35 | Loss: 146.7736 | Train Accuracy: 0.9558 | Test Accuracy: 0.9525\n",
            "Epoch  36 | Loss: 145.8978 | Train Accuracy: 0.9559 | Test Accuracy: 0.9526\n",
            "Epoch  37 | Loss: 145.1285 | Train Accuracy: 0.9564 | Test Accuracy: 0.9524\n",
            "Epoch  38 | Loss: 144.2269 | Train Accuracy: 0.9564 | Test Accuracy: 0.9523\n",
            "Epoch  39 | Loss: 143.5354 | Train Accuracy: 0.9570 | Test Accuracy: 0.9539\n",
            "Epoch  40 | Loss: 142.7084 | Train Accuracy: 0.9574 | Test Accuracy: 0.9535\n",
            "Epoch  41 | Loss: 141.8835 | Train Accuracy: 0.9573 | Test Accuracy: 0.9537\n",
            "Epoch  42 | Loss: 141.0790 | Train Accuracy: 0.9575 | Test Accuracy: 0.9545\n",
            "Epoch  43 | Loss: 140.5147 | Train Accuracy: 0.9576 | Test Accuracy: 0.9545\n",
            "Epoch  44 | Loss: 139.5773 | Train Accuracy: 0.9582 | Test Accuracy: 0.9541\n",
            "Epoch  45 | Loss: 138.8247 | Train Accuracy: 0.9584 | Test Accuracy: 0.9549\n",
            "Epoch  46 | Loss: 138.0576 | Train Accuracy: 0.9583 | Test Accuracy: 0.9548\n",
            "Epoch  47 | Loss: 137.3348 | Train Accuracy: 0.9586 | Test Accuracy: 0.9554\n",
            "Epoch  48 | Loss: 136.5876 | Train Accuracy: 0.9588 | Test Accuracy: 0.9555\n",
            "Epoch  49 | Loss: 135.8247 | Train Accuracy: 0.9590 | Test Accuracy: 0.9560\n",
            "Epoch  50 | Loss: 135.0554 | Train Accuracy: 0.9594 | Test Accuracy: 0.9554\n",
            "Epoch  51 | Loss: 134.3914 | Train Accuracy: 0.9597 | Test Accuracy: 0.9555\n",
            "Epoch  52 | Loss: 133.6978 | Train Accuracy: 0.9598 | Test Accuracy: 0.9563\n",
            "Epoch  53 | Loss: 132.9348 | Train Accuracy: 0.9598 | Test Accuracy: 0.9562\n",
            "Epoch  54 | Loss: 132.2023 | Train Accuracy: 0.9604 | Test Accuracy: 0.9568\n",
            "Epoch  55 | Loss: 131.5015 | Train Accuracy: 0.9606 | Test Accuracy: 0.9570\n",
            "Epoch  56 | Loss: 130.8189 | Train Accuracy: 0.9607 | Test Accuracy: 0.9572\n",
            "Epoch  57 | Loss: 130.1558 | Train Accuracy: 0.9609 | Test Accuracy: 0.9569\n",
            "Epoch  58 | Loss: 129.3877 | Train Accuracy: 0.9611 | Test Accuracy: 0.9576\n",
            "Epoch  59 | Loss: 128.7653 | Train Accuracy: 0.9613 | Test Accuracy: 0.9572\n",
            "Epoch  60 | Loss: 128.0995 | Train Accuracy: 0.9616 | Test Accuracy: 0.9577\n",
            "Epoch  61 | Loss: 127.4311 | Train Accuracy: 0.9618 | Test Accuracy: 0.9577\n",
            "Epoch  62 | Loss: 126.7402 | Train Accuracy: 0.9621 | Test Accuracy: 0.9581\n",
            "Epoch  63 | Loss: 126.0815 | Train Accuracy: 0.9620 | Test Accuracy: 0.9581\n",
            "Epoch  64 | Loss: 125.4226 | Train Accuracy: 0.9625 | Test Accuracy: 0.9580\n",
            "Epoch  65 | Loss: 124.8399 | Train Accuracy: 0.9627 | Test Accuracy: 0.9585\n",
            "Epoch  66 | Loss: 124.0654 | Train Accuracy: 0.9628 | Test Accuracy: 0.9586\n",
            "Epoch  67 | Loss: 123.4118 | Train Accuracy: 0.9630 | Test Accuracy: 0.9583\n",
            "Epoch  68 | Loss: 122.9463 | Train Accuracy: 0.9633 | Test Accuracy: 0.9588\n",
            "Epoch  69 | Loss: 122.1648 | Train Accuracy: 0.9635 | Test Accuracy: 0.9588\n",
            "Epoch  70 | Loss: 121.6186 | Train Accuracy: 0.9639 | Test Accuracy: 0.9593\n",
            "Epoch  71 | Loss: 120.9029 | Train Accuracy: 0.9641 | Test Accuracy: 0.9592\n",
            "Epoch  72 | Loss: 120.3383 | Train Accuracy: 0.9642 | Test Accuracy: 0.9594\n",
            "Epoch  73 | Loss: 119.6646 | Train Accuracy: 0.9645 | Test Accuracy: 0.9593\n",
            "Epoch  74 | Loss: 119.1003 | Train Accuracy: 0.9646 | Test Accuracy: 0.9596\n",
            "Epoch  75 | Loss: 118.5041 | Train Accuracy: 0.9648 | Test Accuracy: 0.9602\n",
            "Epoch  76 | Loss: 117.8949 | Train Accuracy: 0.9649 | Test Accuracy: 0.9603\n",
            "Epoch  77 | Loss: 117.2434 | Train Accuracy: 0.9651 | Test Accuracy: 0.9602\n",
            "Epoch  78 | Loss: 116.6627 | Train Accuracy: 0.9655 | Test Accuracy: 0.9601\n",
            "Epoch  79 | Loss: 116.1886 | Train Accuracy: 0.9655 | Test Accuracy: 0.9604\n",
            "Epoch  80 | Loss: 115.5005 | Train Accuracy: 0.9660 | Test Accuracy: 0.9604\n",
            "Epoch  81 | Loss: 114.9198 | Train Accuracy: 0.9659 | Test Accuracy: 0.9608\n",
            "Epoch  82 | Loss: 114.3356 | Train Accuracy: 0.9661 | Test Accuracy: 0.9611\n",
            "Epoch  83 | Loss: 113.9168 | Train Accuracy: 0.9663 | Test Accuracy: 0.9611\n",
            "Epoch  84 | Loss: 113.2526 | Train Accuracy: 0.9664 | Test Accuracy: 0.9612\n",
            "Epoch  85 | Loss: 112.6169 | Train Accuracy: 0.9666 | Test Accuracy: 0.9616\n",
            "Epoch  86 | Loss: 112.1637 | Train Accuracy: 0.9667 | Test Accuracy: 0.9620\n",
            "Epoch  87 | Loss: 111.5630 | Train Accuracy: 0.9669 | Test Accuracy: 0.9616\n",
            "Epoch  88 | Loss: 111.0319 | Train Accuracy: 0.9669 | Test Accuracy: 0.9617\n",
            "Epoch  89 | Loss: 110.5208 | Train Accuracy: 0.9673 | Test Accuracy: 0.9621\n",
            "Epoch  90 | Loss: 110.0611 | Train Accuracy: 0.9673 | Test Accuracy: 0.9621\n",
            "Epoch  91 | Loss: 109.3857 | Train Accuracy: 0.9675 | Test Accuracy: 0.9622\n",
            "Epoch  92 | Loss: 108.8678 | Train Accuracy: 0.9678 | Test Accuracy: 0.9629\n",
            "Epoch  93 | Loss: 108.2872 | Train Accuracy: 0.9678 | Test Accuracy: 0.9627\n",
            "Epoch  94 | Loss: 107.8836 | Train Accuracy: 0.9681 | Test Accuracy: 0.9631\n",
            "Epoch  95 | Loss: 107.3118 | Train Accuracy: 0.9683 | Test Accuracy: 0.9631\n",
            "Epoch  96 | Loss: 106.6992 | Train Accuracy: 0.9685 | Test Accuracy: 0.9630\n",
            "Epoch  97 | Loss: 106.2134 | Train Accuracy: 0.9687 | Test Accuracy: 0.9631\n",
            "Epoch  98 | Loss: 105.7177 | Train Accuracy: 0.9687 | Test Accuracy: 0.9632\n",
            "Epoch  99 | Loss: 105.1417 | Train Accuracy: 0.9688 | Test Accuracy: 0.9633\n"
          ]
        }
      ]
    },
    {
      "cell_type": "code",
      "source": [
        "import numpy as np\n",
        "import matplotlib.pyplot as plt\n",
        "\n",
        "def plot_acc(train_acc_list, test_acc_list, label1='train_acc', label2='test_acc'):\n",
        "    x = np.arange(len(train_acc_list))\n",
        "\n",
        "    plt.plot(x, train_acc_list, label=label1)\n",
        "    plt.plot(x, test_acc_list, label=label2)\n",
        "    plt.legend()\n",
        "    plt.xlabel('Epochs')  # X축 레이블 추가\n",
        "    plt.ylabel('Accuracy')  # Y축 레이블 추가\n",
        "    plt.show()\n",
        "\n",
        "%matplotlib inline\n",
        "\n",
        "plot_acc(train_acc_list, test_acc_list)"
      ],
      "metadata": {
        "id": "Nr-HD8EOlSA4",
        "colab": {
          "base_uri": "https://localhost:8080/",
          "height": 454
        },
        "outputId": "a1ac076c-4ca7-43b0-86dd-4ce77dc3982d"
      },
      "execution_count": null,
      "outputs": [
        {
          "output_type": "display_data",
          "data": {
            "text/plain": [
              "<Figure size 640x480 with 1 Axes>"
            ],
            "image/png": "[encoded data removed]"
          },
          "metadata": {}
        }
      ]
    },
    {
      "cell_type": "code",
      "source": [
        "print(train_acc_list)"
      ],
      "metadata": {
        "id": "8ZlGmKRlpWem",
        "colab": {
          "base_uri": "https://localhost:8080/"
        },
        "outputId": "5d34a687-08c4-4e2a-a8f1-394e7b5f7719"
      },
      "execution_count": null,
      "outputs": [
        {
          "output_type": "stream",
          "name": "stdout",
          "text": [
            "[0.9459166666666666, 0.9464666666666667, 0.9467333333333333, 0.9469, 0.9474, 0.9476666666666667, 0.9481, 0.9486, 0.9488166666666666, 0.9487166666666667, 0.9495166666666667, 0.9497333333333333, 0.9498833333333333, 0.9494, 0.9502166666666667, 0.9507666666666666, 0.9507333333333333, 0.9509666666666666, 0.9512833333333334, 0.9518, 0.95175, 0.9524666666666667, 0.9525333333333333, 0.95285, 0.9532166666666667, 0.9533, 0.9538, 0.9540833333333333, 0.9541833333333334, 0.95435, 0.9546666666666667, 0.9550833333333333, 0.9553666666666667, 0.9555166666666667, 0.9556, 0.9558, 0.9559333333333333, 0.9563833333333334, 0.9564333333333334, 0.9569833333333333, 0.9573666666666667, 0.9573166666666667, 0.9574833333333334, 0.9576, 0.9582333333333334, 0.95835, 0.9583166666666667, 0.9586, 0.9588, 0.9590333333333333, 0.9593833333333334, 0.95975, 0.9598166666666667, 0.9598, 0.96035, 0.9606333333333333, 0.9607333333333333, 0.9609, 0.96115, 0.9613333333333334, 0.9615833333333333, 0.9618166666666667, 0.9620833333333333, 0.96205, 0.9624666666666667, 0.96265, 0.9628333333333333, 0.9629833333333333, 0.9633333333333334, 0.9635333333333334, 0.9639, 0.9641, 0.9641666666666666, 0.9645333333333334, 0.96455, 0.9648333333333333, 0.9648666666666667, 0.9651333333333333, 0.9654666666666667, 0.9654833333333334, 0.9659666666666666, 0.96595, 0.9661333333333333, 0.9662666666666667, 0.9663666666666667, 0.9666, 0.96675, 0.9669166666666666, 0.9669333333333333, 0.9672833333333334, 0.9672666666666667, 0.9674833333333334, 0.9677833333333333, 0.96785, 0.9680666666666666, 0.9683333333333334, 0.96845, 0.96865, 0.9686833333333333, 0.9688166666666667]\n"
          ]
        }
      ]
    },
    {
      "cell_type": "code",
      "source": [
        "print(test_acc_list)"
      ],
      "metadata": {
        "id": "7EACc3JRrTYU",
        "colab": {
          "base_uri": "https://localhost:8080/"
        },
        "outputId": "2624a115-3325-4d7f-ee9f-f8cac5a12e24"
      },
      "execution_count": null,
      "outputs": [
        {
          "output_type": "stream",
          "name": "stdout",
          "text": [
            "[0.9438, 0.9434, 0.9447, 0.9447, 0.9444, 0.9449, 0.945, 0.9457, 0.9455, 0.9463, 0.9463, 0.9466, 0.947, 0.9467, 0.9469, 0.9472, 0.9476, 0.9477, 0.9477, 0.9478, 0.9486, 0.9484, 0.9494, 0.9493, 0.9501, 0.9489, 0.9503, 0.9502, 0.9514, 0.951, 0.9512, 0.9517, 0.9517, 0.9516, 0.9521, 0.9525, 0.9526, 0.9524, 0.9523, 0.9539, 0.9535, 0.9537, 0.9545, 0.9545, 0.9541, 0.9549, 0.9548, 0.9554, 0.9555, 0.956, 0.9554, 0.9555, 0.9563, 0.9562, 0.9568, 0.957, 0.9572, 0.9569, 0.9576, 0.9572, 0.9577, 0.9577, 0.9581, 0.9581, 0.958, 0.9585, 0.9586, 0.9583, 0.9588, 0.9588, 0.9593, 0.9592, 0.9594, 0.9593, 0.9596, 0.9602, 0.9603, 0.9602, 0.9601, 0.9604, 0.9604, 0.9608, 0.9611, 0.9611, 0.9612, 0.9616, 0.962, 0.9616, 0.9617, 0.9621, 0.9621, 0.9622, 0.9629, 0.9627, 0.9631, 0.9631, 0.963, 0.9631, 0.9632, 0.9633]\n"
          ]
        }
      ]
    },
    {
      "cell_type": "markdown",
      "source": [
        "🔎 결과를 이해해보자!\n",
        "\n",
        "* train data의 정확도는 0.945 ~ 0.968 사이에서 점진적으로 상승 / test data는 0.943 ~ 0.963까지 상승하는 추세\n",
        "* 두 정확도 간의 차이가 0.01 이내에서 유지되고 있다. 즉 train data와 test data의 정확도 차이가 크지 않아 overfitting 되지는 않은 것으로 볼 수 있다.\n",
        "* train data와 test data 모두 정확도가 94~96% 이상을 기록하고 있어, 모델이 충분히 학습되었다고 볼 수 있다."
      ],
      "metadata": {
        "id": "vNoGPd6a220N"
      }
    }
  ]
}